{
 "cells": [
  {
   "cell_type": "code",
   "execution_count": 1,
   "id": "828d4e83",
   "metadata": {},
   "outputs": [
    {
     "name": "stderr",
     "output_type": "stream",
     "text": [
      "A matching Triton is not available, some optimizations will not be enabled.\n",
      "Error caught was: No module named 'triton'\n",
      "c:\\Users\\Zhang\\Desktop\\assignment2\\audiocraft_py39_env\\lib\\site-packages\\tqdm\\auto.py:21: TqdmWarning: IProgress not found. Please update jupyter and ipywidgets. See https://ipywidgets.readthedocs.io/en/stable/user_install.html\n",
      "  from .autonotebook import tqdm as notebook_tqdm\n"
     ]
    },
    {
     "name": "stdout",
     "output_type": "stream",
     "text": [
      "Using device: cuda\n"
     ]
    }
   ],
   "source": [
    "import torch\n",
    "from audiocraft.models import MusicGen\n",
    "from audiocraft.data.audio import audio_write\n",
    "import os # 导入 os 模块用于文件路径操作\n",
    "\n",
    "# 1. 设置设备\n",
    "if torch.cuda.is_available():\n",
    "    device = \"cuda\"\n",
    "else:\n",
    "    device = \"cpu\"\n",
    "print(f\"Using device: {device}\")\n"
   ]
  },
  {
   "cell_type": "code",
   "execution_count": 4,
   "id": "5da26c84",
   "metadata": {},
   "outputs": [
    {
     "name": "stdout",
     "output_type": "stream",
     "text": [
      "Loading MusicGen model (this may take a moment)...\n"
     ]
    },
    {
     "name": "stderr",
     "output_type": "stream",
     "text": [
      "c:\\Users\\Zhang\\Desktop\\assignment2\\audiocraft_py39_env\\lib\\site-packages\\torch\\nn\\utils\\weight_norm.py:30: UserWarning: torch.nn.utils.weight_norm is deprecated in favor of torch.nn.utils.parametrizations.weight_norm.\n",
      "  warnings.warn(\"torch.nn.utils.weight_norm is deprecated in favor of torch.nn.utils.parametrizations.weight_norm.\")\n"
     ]
    },
    {
     "name": "stdout",
     "output_type": "stream",
     "text": [
      "Model loaded successfully.\n",
      "Set generation parameters.\n",
      "Generating audio for: An 80s anime music\n",
      "Audio generation complete.\n",
      "Saving audio to musicgen_output/An_80s_anime_music_0.wav ...\n",
      "Audio saved successfully as musicgen_output\\An_80s_anime_music_0.wav\n"
     ]
    }
   ],
   "source": [
    "try:\n",
    "    # 2. 加载预训练模型\n",
    "    #    可以选择不同的模型, 例如: 'facebook/musicgen-small', 'facebook/musicgen-medium', 'facebook/musicgen-melody'\n",
    "    print(\"Loading MusicGen model (this may take a moment)...\")\n",
    "    model = MusicGen.get_pretrained('facebook/musicgen-small', device=device)\n",
    "    print(\"Model loaded successfully.\")\n",
    "\n",
    "    # 3. 设置生成参数\n",
    "    #    可以调整时长 (duration) 等参数\n",
    "    model.set_generation_params(duration=8)  # 生成 8 秒的音频\n",
    "    print(\"Set generation parameters.\")\n",
    "\n",
    "    # 4. 提供文本描述来生成音乐\n",
    "    descriptions = [\n",
    "        'An 80s anime music',\n",
    "        # 'A cheerful country song with acoustic guitars and a steady beat',\n",
    "        # 'epic orchestral score with heroic brass and soaring strings'\n",
    "    ]\n",
    "    print(f\"Generating audio for: {descriptions[0]}\")\n",
    "    # unconditional_tokens = None\n",
    "    # progress = True #\n",
    "    # return_tokens = False #\n",
    "\n",
    "    # 根据你的 Audiocraft 版本，这里可能是 `generate` 或 `generate_unconditional` 等\n",
    "    # 如果是基于文本描述，通常是 `generate`\n",
    "    # wav = model.generate(descriptions, progress=True, return_tokens=False)\n",
    "    # 如果你只想生成无条件的，或者想测试不同的API，可以查阅 audiocraft 文档\n",
    "    \n",
    "    # 尝试使用 generate 方法\n",
    "    output = model.generate(\n",
    "        descriptions=descriptions,\n",
    "        progress=True, # 显示进度条\n",
    "        return_tokens=False\n",
    "    )\n",
    "    wav = output[0] # output 通常是一个包含所有生成样本的张量列表或张量，这里取第一个\n",
    "\n",
    "    print(\"Audio generation complete.\")\n",
    "\n",
    "    # 5. 保存生成的音频\n",
    "    output_folder = 'musicgen_output'\n",
    "    if not os.path.exists(output_folder):\n",
    "        os.makedirs(output_folder)\n",
    "    \n",
    "    # audio_write 函数期望文件名、张量、采样率、可选的归一化等参数\n",
    "    # wav 张量的形状可能是 (num_channels, num_frames) 或 (batch_size, num_channels, num_frames)\n",
    "    # 如果是 (batch_size, num_channels, num_frames)，我们需要选择一个样本，例如 wav[0]\n",
    "    # audio_write 返回写入的文件路径列表\n",
    "    \n",
    "    # 假设 wav 是一个 [num_channels, num_frames] 的张量\n",
    "    # 或者如果模型返回的是批次，则 wav[0] 是第一个样本\n",
    "    # file_path = audio_write(f'{output_folder}/generated_audio_0', wav.cpu(), model.sample_rate, strategy=\"loudness\", loudness_compressor=True)\n",
    "    \n",
    "    # 适配 audiocraft.data.audio.audio_write 的调用\n",
    "    # 它会自动处理文件名后缀，比如 .wav\n",
    "    # audio_write(stem_name: str, waveform: torch.Tensor, sample_rate: int, ...)\n",
    "    \n",
    "    # 为每个描述生成的文件命名\n",
    "    file_stem = descriptions[0].replace(' ', '_')[:30] # 取描述的前30个字符并替换空格为下划线作为文件名的一部分\n",
    "    \n",
    "    print(f\"Saving audio to {output_folder}/{file_stem}_0.wav ...\")\n",
    "    # wav已经是单个样本的张量了 [num_channels, num_frames]\n",
    "    actual_filename = audio_write(\n",
    "        os.path.join(output_folder, f'{file_stem}_0'),  # stem_name 作为第一个位置参数\n",
    "        wav.cpu(),                                     # 音频波形张量作为第二个位置参数\n",
    "        model.sample_rate,                             # 采样率作为第三个位置参数\n",
    "        strategy=\"loudness\",                           # 关键字参数\n",
    "        loudness_compressor=True                       # 关键字参数\n",
    "    )\n",
    "    \n",
    "    # audio_write 返回的是一个包含完整文件名的列表，我们取第一个\n",
    "    if actual_filename: # 确保返回了文件名\n",
    "        print(f\"Audio saved successfully as {actual_filename}\")\n",
    "    else:\n",
    "        print(\"Error saving audio or audio_write returned an empty list.\")\n",
    "\n",
    "\n",
    "except Exception as e:\n",
    "    print(f\"An error occurred: {e}\")\n",
    "    import traceback\n",
    "    traceback.print_exc()\n"
   ]
  },
  {
   "cell_type": "code",
   "execution_count": 1,
   "id": "1f11b0c2",
   "metadata": {},
   "outputs": [
    {
     "name": "stdout",
     "output_type": "stream",
     "text": [
      "正在扫描目录: C:\\Users\\Zhang\\Desktop\\assignment2\\audiocraft\\dataset\\music\n",
      "\n",
      "文件名                                                          | 时长 (秒)          | 采样率 (Hz)        | 声道数       \n",
      "----------------------------------------------------------------------------------------------------\n",
      "Avid.wav                                                     | 30.037          | 48000           | 2         \n",
      "Bios.wav                                                     | 30.037          | 48000           | 2         \n",
      "Butter-Fly.wav                                               | 30.037          | 48000           | 2         \n",
      "Merry-go-round-of-life.wav                                   | 30.037          | 48000           | 2         \n",
      "One-Last-Kiss.wav                                            | 30.037          | 48000           | 2         \n",
      "This-Game.wav                                                | 30.037          | 48000           | 2         \n",
      "zenzenzense.wav                                              | 30.037          | 48000           | 2         \n"
     ]
    }
   ],
   "source": [
    "import os\n",
    "import soundfile as sf # 用于读取音频文件信息\n",
    "\n",
    "def get_audio_info(filepath):\n",
    "    try:\n",
    "        info = sf.info(filepath)\n",
    "        duration = info.duration\n",
    "        sample_rate = info.samplerate\n",
    "        channels = info.channels\n",
    "        return duration, sample_rate, channels\n",
    "    except Exception as e:\n",
    "        print(f\"错误：无法读取文件 {os.path.basename(filepath)} 的信息。原因: {e}\")\n",
    "        return None, None, None\n",
    "\n",
    "def process_directory_and_print_info(audio_directory):\n",
    "    \"\"\"\n",
    "    处理指定目录下的所有 .wav 文件，并打印其信息。\n",
    "    \"\"\"\n",
    "    print(f\"正在扫描目录: {audio_directory}\\n\")\n",
    "    print(f\"{'文件名':<60} | {'时长 (秒)':<15} | {'采样率 (Hz)':<15} | {'声道数':<10}\")\n",
    "    print(\"-\" * 100) # 调整了分隔线长度\n",
    "\n",
    "    found_wav_files = False\n",
    "    if not os.path.isdir(audio_directory):\n",
    "        print(f\"错误：提供的路径 '{audio_directory}' 不是一个有效的目录或不存在。\")\n",
    "        return\n",
    "\n",
    "    for filename in os.listdir(audio_directory):\n",
    "        if filename.lower().endswith(\".wav\"):\n",
    "            found_wav_files = True\n",
    "            filepath = os.path.join(audio_directory, filename)\n",
    "            duration, sample_rate, channels = get_audio_info(filepath)\n",
    "            if duration is not None:\n",
    "                print(f\"{filename:<60} | {duration:<15.3f} | {sample_rate:<15} | {channels:<10}\")\n",
    "    \n",
    "    if not found_wav_files:\n",
    "        print(f\"在目录 '{audio_directory}' 中没有找到 .wav 文件。\")\n",
    "audio_folder_path = r\"C:\\Users\\Zhang\\Desktop\\assignment2\\audiocraft\\dataset\\music\" \n",
    "process_directory_and_print_info(audio_folder_path)"
   ]
  },
  {
   "cell_type": "code",
   "execution_count": 2,
   "id": "1b80707b",
   "metadata": {},
   "outputs": [
    {
     "name": "stdout",
     "output_type": "stream",
     "text": [
      "Re-encoded all JSON metadata files to UTF-8\n"
     ]
    }
   ],
   "source": [
    "import glob\n",
    "import json\n",
    "\n",
    "# Re-encode all JSON metadata files to UTF-8\n",
    "for json_file in glob.glob('dataset/music/*.json'):\n",
    "    # Load with strict UTF-8 decoding\n",
    "    with open(json_file, 'r', encoding='utf-8') as f:\n",
    "        data = json.load(f)\n",
    "    # Write back as UTF-8 with explicit ensure_ascii=False\n",
    "    with open(json_file, 'w', encoding='utf-8') as f:\n",
    "        json.dump(data, f, ensure_ascii=False, indent=2)\n",
    "\n",
    "print(\"Re-encoded all JSON metadata files to UTF-8\")"
   ]
  }
 ],
 "metadata": {
  "kernelspec": {
   "display_name": "audiocraft_py39_env",
   "language": "python",
   "name": "python3"
  },
  "language_info": {
   "codemirror_mode": {
    "name": "ipython",
    "version": 3
   },
   "file_extension": ".py",
   "mimetype": "text/x-python",
   "name": "python",
   "nbconvert_exporter": "python",
   "pygments_lexer": "ipython3",
   "version": "3.9.13"
  }
 },
 "nbformat": 4,
 "nbformat_minor": 5
}
